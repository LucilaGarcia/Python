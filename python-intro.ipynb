{
  "cells": [
    {
      "cell_type": "markdown",
      "metadata": {
        "id": "view-in-github",
        "colab_type": "text"
      },
      "source": [
        "<a href=\"https://colab.research.google.com/github/LucilaGarcia/Python/blob/main/python-intro.ipynb\" target=\"_parent\"><img src=\"https://colab.research.google.com/assets/colab-badge.svg\" alt=\"Open In Colab\"/></a>"
      ]
    },
    {
      "cell_type": "markdown",
      "source": [
        "#Intro to Python\n",
        "\n",
        "**Bold text is pretty**\n",
        "\n",
        "Testing Adding Text to Notebook"
      ],
      "metadata": {
        "id": "vAYLaQMz3vMW"
      }
    },
    {
      "cell_type": "code",
      "source": [
        "age = 24\n",
        "first_name = 'Lucila'"
      ],
      "metadata": {
        "id": "4CggYM-I4qyU"
      },
      "execution_count": 3,
      "outputs": []
    },
    {
      "cell_type": "code",
      "source": [
        "print(first_name, \"is\", age, 'years old')"
      ],
      "metadata": {
        "id": "FounBuVz5QqQ",
        "outputId": "8d15ad76-c2b7-437f-dab3-2ca4ec7c048e",
        "colab": {
          "base_uri": "https://localhost:8080/"
        }
      },
      "execution_count": 5,
      "outputs": [
        {
          "output_type": "stream",
          "name": "stdout",
          "text": [
            "Lucila is 24 years old\n"
          ]
        }
      ]
    },
    {
      "cell_type": "code",
      "source": [
        "age = age + 3\n",
        "print('Age in three years:',age)"
      ],
      "metadata": {
        "id": "fZXCPoj25bPW",
        "outputId": "d5c7b01b-49e1-4425-fd36-b3cfce62eefc",
        "colab": {
          "base_uri": "https://localhost:8080/"
        }
      },
      "execution_count": 6,
      "outputs": [
        {
          "output_type": "stream",
          "name": "stdout",
          "text": [
            "Age in three years: 27\n"
          ]
        }
      ]
    },
    {
      "cell_type": "code",
      "source": [
        "atom_name = 'helium'\n",
        "print(atom_name[0:2])"
      ],
      "metadata": {
        "id": "O_Kn5CaZ5xx6",
        "outputId": "305a0e7a-d8da-4a75-dc81-f7980670ef88",
        "colab": {
          "base_uri": "https://localhost:8080/"
        }
      },
      "execution_count": 7,
      "outputs": [
        {
          "output_type": "stream",
          "name": "stdout",
          "text": [
            "he\n"
          ]
        }
      ]
    },
    {
      "cell_type": "code",
      "source": [
        "print(len('helium'))"
      ],
      "metadata": {
        "id": "IsiYvxXk53mI",
        "outputId": "e7104416-b46f-4a8f-d05c-1584f0c6520c",
        "colab": {
          "base_uri": "https://localhost:8080/"
        }
      },
      "execution_count": 8,
      "outputs": [
        {
          "output_type": "stream",
          "name": "stdout",
          "text": [
            "6\n"
          ]
        }
      ]
    },
    {
      "cell_type": "code",
      "source": [
        "x=1.0\n",
        "y=3.0\n",
        "print('x=',x)\n",
        "print('y=',y)\n",
        "swap = x\n",
        "x = y\n",
        "y = swap\n",
        "print('x =', x)\n",
        "print('y =', y)"
      ],
      "metadata": {
        "id": "hnsGQ8xt6N9H",
        "outputId": "26d56e58-dd53-43df-e92c-8e283eb60fb4",
        "colab": {
          "base_uri": "https://localhost:8080/"
        }
      },
      "execution_count": 10,
      "outputs": [
        {
          "output_type": "stream",
          "name": "stdout",
          "text": [
            "x= 1.0\n",
            "y= 3.0\n",
            "x = 3.0\n",
            "y = 1.0\n"
          ]
        }
      ]
    },
    {
      "cell_type": "code",
      "source": [
        "print(type(52))\n",
        "fitness='average'\n",
        "print(type(fitness))"
      ],
      "metadata": {
        "id": "AzAH7iJP7Nhp",
        "outputId": "804e3b93-6adb-4a23-f03e-c9e4d4cbabc2",
        "colab": {
          "base_uri": "https://localhost:8080/"
        }
      },
      "execution_count": 12,
      "outputs": [
        {
          "output_type": "stream",
          "name": "stdout",
          "text": [
            "<class 'int'>\n",
            "<class 'str'>\n"
          ]
        }
      ]
    },
    {
      "cell_type": "code",
      "source": [
        "print(5-3)"
      ],
      "metadata": {
        "id": "HrC_ae7a7ilf",
        "outputId": "0a411c6f-af8a-4266-8fa2-5b2816d72723",
        "colab": {
          "base_uri": "https://localhost:8080/"
        }
      },
      "execution_count": 15,
      "outputs": [
        {
          "output_type": "stream",
          "name": "stdout",
          "text": [
            "2\n"
          ]
        }
      ]
    },
    {
      "cell_type": "code",
      "source": [
        "full_name = first_name + ' ' + 'Garcia'\n",
        "print(full_name)\n",
        "seperator='=' *12\n",
        "print(seperator)"
      ],
      "metadata": {
        "id": "7Za5Mf2h7w4W",
        "outputId": "13728f73-cd29-4608-a54c-82885aea5019",
        "colab": {
          "base_uri": "https://localhost:8080/"
        }
      },
      "execution_count": 17,
      "outputs": [
        {
          "output_type": "stream",
          "name": "stdout",
          "text": [
            "Lucila Garcia\n",
            "============\n"
          ]
        }
      ]
    },
    {
      "cell_type": "code",
      "source": [
        "print(1+int('2'))"
      ],
      "metadata": {
        "id": "my02dA3V9Eg6",
        "outputId": "22fd7d03-8834-48f2-ffa9-1ca013c4e4d9",
        "colab": {
          "base_uri": "https://localhost:8080/"
        }
      },
      "execution_count": 21,
      "outputs": [
        {
          "output_type": "stream",
          "name": "stdout",
          "text": [
            "3\n"
          ]
        }
      ]
    },
    {
      "cell_type": "code",
      "source": [
        "num_subjects = 600\n",
        "num_per_survey = 42\n",
        "num_surveys = (num_subjects - 1) // num_per_survey +1\n",
        "\n",
        "print(num_subjects, \"subjects,\", num_per_survey, 'per survey:', num_surveys, 'surveys')"
      ],
      "metadata": {
        "id": "X3t9Bbr19kou",
        "outputId": "db8a57ed-061a-487a-d2d0-2e2b5d276b95",
        "colab": {
          "base_uri": "https://localhost:8080/"
        }
      },
      "execution_count": 24,
      "outputs": [
        {
          "output_type": "stream",
          "name": "stdout",
          "text": [
            "600 subjects, 42 per survey: 15 surveys\n"
          ]
        }
      ]
    },
    {
      "cell_type": "code",
      "source": [
        "a_complex_number= 6 + 2j\n",
        "print(a_complex_number.real)\n",
        "print(a_complex_number.imag)"
      ],
      "metadata": {
        "id": "3b5ZcgrX-OWJ",
        "outputId": "137d3669-4328-4d1d-9db1-0e47c9afbd70",
        "colab": {
          "base_uri": "https://localhost:8080/"
        }
      },
      "execution_count": 25,
      "outputs": [
        {
          "output_type": "stream",
          "name": "stdout",
          "text": [
            "6.0\n",
            "2.0\n"
          ]
        }
      ]
    },
    {
      "cell_type": "code",
      "source": [
        "radiance = 1.0\n",
        "radiance = max(2.1, 2.0 + min(radiance, 1.1 * radiance - 0.5))\n",
        "print(radiance)"
      ],
      "metadata": {
        "id": "XJVrEiOrOqdG",
        "outputId": "3a33b1bb-1e15-430f-d181-0b6c6bec5b64",
        "colab": {
          "base_uri": "https://localhost:8080/"
        }
      },
      "execution_count": 1,
      "outputs": [
        {
          "output_type": "stream",
          "name": "stdout",
          "text": [
            "2.6\n"
          ]
        }
      ]
    }
  ],
  "metadata": {
    "colab": {
      "provenance": [],
      "include_colab_link": true
    },
    "language_info": {
      "name": "python"
    },
    "kernelspec": {
      "name": "python3",
      "display_name": "Python 3"
    }
  },
  "nbformat": 4,
  "nbformat_minor": 0
}